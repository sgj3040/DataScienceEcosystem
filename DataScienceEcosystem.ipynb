{
 "cells": [
  {
   "cell_type": "code",
   "execution_count": null,
   "id": "c9f69ba2-e081-4415-9d38-afcfd92e6d27",
   "metadata": {},
   "outputs": [],
   "source": [
    "Data Science Tools and Ecosystem"
   ]
  },
  {
   "cell_type": "code",
   "execution_count": null,
   "id": "7dbef3c1-8a86-4d16-a1b8-a51e5ac14a2a",
   "metadata": {},
   "outputs": [],
   "source": [
    "In this notebook, Data Science Tools and Ecosystem are summarized."
   ]
  },
  {
   "cell_type": "code",
   "execution_count": null,
   "id": "53837d95-4ebb-4b52-9c25-280f5d4aa48a",
   "metadata": {},
   "outputs": [],
   "source": [
    "**Objectives:** \n",
    "- List popular languages for Data Science\n",
    "- List common libraries for Python\n",
    "- List tools for Data Science"
   ]
  },
  {
   "cell_type": "code",
   "execution_count": null,
   "id": "2c6bdeee-6a46-491e-adf4-5357fcf1491b",
   "metadata": {},
   "outputs": [],
   "source": [
    "Some of the popular languages that Data Scientists use are:\n",
    "1. Python\n",
    "2. R\n",
    "3. SQL\n",
    "4. Java"
   ]
  },
  {
   "cell_type": "code",
   "execution_count": null,
   "id": "73077ba3-b2c5-460f-82ea-35762a9cb355",
   "metadata": {},
   "outputs": [],
   "source": [
    "Some of the commonly used libraries used by Data Scientists include:\n",
    "1. Python Libraries:\n",
    "    NumPy\n",
    "    Pandas\n",
    "    Matplotlib\n",
    "    Seaborn\n",
    "    Plotly\n",
    "    Bokeh\n",
    "    scikit-learn\n",
    "    XGBoost\n",
    "    LightGBM\n",
    "    CatBoost\n",
    "    TensorFlow\n",
    "    PyTorch\n",
    "    Keras\n",
    "    Natural Language Toolkit\n"
   ]
  },
  {
   "cell_type": "code",
   "execution_count": null,
   "id": "d7d1147b-c663-43d5-a5ec-c21ff5e5d2d9",
   "metadata": {
    "editable": true,
    "slideshow": {
     "slide_type": ""
    },
    "tags": []
   },
   "outputs": [],
   "source": [
    "|Data Science Tools| Jupyter Notebook|VS Code|RStudio|\n",
    "|-----|:-----|:-----|:-----|\n"
   ]
  },
  {
   "cell_type": "code",
   "execution_count": null,
   "id": "0db58769-366a-475a-80db-152c73a75126",
   "metadata": {},
   "outputs": [],
   "source": [
    "### Below are a few examples of evaluating arithmetic expressions in Python. "
   ]
  },
  {
   "cell_type": "code",
   "execution_count": null,
   "id": "6c98b4c6-ee4b-4b8d-835c-f849e1d830e3",
   "metadata": {},
   "outputs": [],
   "source": [
    "This is simple arithmetic expression to mltiply then add integers. "
   ]
  },
  {
   "cell_type": "code",
   "execution_count": 2,
   "id": "ca762ad9-bd6e-4940-8545-0533a31c69c1",
   "metadata": {},
   "outputs": [
    {
     "data": {
      "text/plain": [
       "17"
      ]
     },
     "execution_count": 2,
     "metadata": {},
     "output_type": "execute_result"
    }
   ],
   "source": [
    "(3*4)+5"
   ]
  },
  {
   "cell_type": "code",
   "execution_count": null,
   "id": "21c6cc0f-5a95-45fa-b419-f52905056665",
   "metadata": {},
   "outputs": [],
   "source": [
    "This will convert 200 minutes to hours by dividing by 60. "
   ]
  },
  {
   "cell_type": "code",
   "execution_count": 3,
   "id": "bc82a371-e52c-4e7c-bd1a-668931fb6244",
   "metadata": {},
   "outputs": [
    {
     "data": {
      "text/plain": [
       "3.3333333333333335"
      ]
     },
     "execution_count": 3,
     "metadata": {},
     "output_type": "execute_result"
    }
   ],
   "source": [
    "200/60"
   ]
  },
  {
   "cell_type": "code",
   "execution_count": 4,
   "id": "4a9066cb-b827-4440-8459-3e786624b0b1",
   "metadata": {},
   "outputs": [],
   "source": [
    "##Author## SJohnson"
   ]
  },
  {
   "cell_type": "code",
   "execution_count": null,
   "id": "39517c36-5622-430d-a246-0e24d6d54c75",
   "metadata": {},
   "outputs": [],
   "source": []
  }
 ],
 "metadata": {
  "kernelspec": {
   "display_name": "anaconda-panel-2023.05-py310",
   "language": "python",
   "name": "conda-env-anaconda-panel-2023.05-py310-py"
  },
  "language_info": {
   "codemirror_mode": {
    "name": "ipython",
    "version": 3
   },
   "file_extension": ".py",
   "mimetype": "text/x-python",
   "name": "python",
   "nbconvert_exporter": "python",
   "pygments_lexer": "ipython3",
   "version": "3.11.5"
  }
 },
 "nbformat": 4,
 "nbformat_minor": 5
}
